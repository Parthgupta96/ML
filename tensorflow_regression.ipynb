{
 "cells": [
  {
   "cell_type": "code",
   "execution_count": 47,
   "metadata": {
    "collapsed": true
   },
   "outputs": [],
   "source": [
    "%config IPCompleter.greedy=True"
   ]
  },
  {
   "cell_type": "code",
   "execution_count": 96,
   "metadata": {
    "collapsed": true
   },
   "outputs": [],
   "source": [
    "import tensorflow as tf\n",
    "import numpy as np\n",
    "import matplotlib.pyplot as plt\n",
    "# rng = numpy.random\n",
    "\n",
    "def generate_dataset():\n",
    "    x_batch = np.linspace(-1,1,101)#from -1 to 1 ,101 eleme\n",
    "    y_batch = 2*x_batch + np.random.randn(*x_batch.shape)*0.3\n",
    "    return x_batch,y_batch\n",
    "\n",
    "def linear_regression():\n",
    "    x = tf.placeholder(tf.float32,shape =(None),name = 'x')\n",
    "    y = tf.placeholder(tf.float32,shape =(None),name = 'y')\n",
    "    \n",
    "    with tf.variable_scope('lreg',reuse=True) as scope:\n",
    "        w = tf.Variable(np.random.normal(),name = 'W')\n",
    "        b = tf.Variable(np.random.normal(),name = 'b')\n",
    "        print('w',tf.get_variable('W',[1]))\n",
    "        y_pred = tf.add(tf.multiply(w,x),b)\n",
    "#         y_pred = tf.multiply(w,x)\n",
    "        \n",
    "        loss = tf.reduce_mean(tf.square(y_pred-y))\n",
    "    return x,y,y_pred,loss,w,b\n",
    "    "
   ]
  },
  {
   "cell_type": "code",
   "execution_count": 97,
   "metadata": {},
   "outputs": [
    {
     "name": "stdout",
     "output_type": "stream",
     "text": [
      "('w', <tf.Variable 'lreg/W:0' shape=(1,) dtype=float32_ref>)\n",
      "('loss:', 7.0199785, -1.952672, 0.74278164)\n",
      "('loss:', 5.9195123, -1.684587, 0.59643006)\n",
      "('loss:', 5.0324826, -1.4347317, 0.47934878)\n",
      "('loss:', 4.3060594, -1.2018666, 0.38568375)\n",
      "('loss:', 3.7032769, -0.98483634, 0.31075171)\n",
      "('loss:', 3.1977363, -0.78256416, 0.25080606)\n",
      "('loss:', 2.7701654, -0.59404647, 0.20284957)\n",
      "('loss:', 2.4061615, -0.41834801, 0.16448437)\n",
      "('loss:', 2.0947104, -0.25459701, 0.13379219)\n",
      "('loss:', 1.8272055, -0.10198107, 0.10923847)\n",
      "('loss:', 1.5967824, 0.040256977, 0.089595482)\n",
      "('loss:', 1.397872, 0.17282283, 0.073881097)\n",
      "('loss:', 1.2258874, 0.2963742, 0.061309587)\n",
      "('loss:', 1.0770056, 0.41152409, 0.051252387)\n",
      "('loss:', 0.94800872, 0.51884377, 0.043206617)\n",
      "('loss:', 0.83616686, 0.61886573, 0.036770005)\n",
      "('loss:', 0.7391516, 0.7120862, 0.031620711)\n",
      "('loss:', 0.65496695, 0.79896766, 0.027501281)\n",
      "('loss:', 0.58189678, 0.87994117, 0.024205733)\n",
      "('loss:', 0.51846123, 0.95540851, 0.021569295)\n"
     ]
    },
    {
     "data": {
      "image/png": "[encoded data removed]",
      "text/plain": [
       "<matplotlib.figure.Figure at 0x7f63c84e65d0>"
      ]
     },
     "metadata": {},
     "output_type": "display_data"
    }
   ],
   "source": [
    "def run():\n",
    "    x_batch,y_batch = generate_dataset()\n",
    "    x,y,y_pred,loss,w,b = linear_regression()\n",
    "    optimizer = tf.train.GradientDescentOptimizer(0.1).minimize(loss)\n",
    "    \n",
    "    init = tf.global_variables_initializer()\n",
    "    with tf.Session() as session:\n",
    "        session.run(init)\n",
    "        \n",
    "        feed_dict = {x:x_batch,y:y_batch}\n",
    "        \n",
    "        for _ in range(20):\n",
    "            loss_val,_,we,be = session.run([loss,optimizer,w,b],feed_dict)\n",
    "            print('loss:',loss_val.mean(),we,be)\n",
    "#             with tf.variable_scope('lreg',reuse=True) as scope:\n",
    "#                 weight = tf.get_variable('W',[1])\n",
    "#                 print('weight',tf.print(weight))\n",
    "        \n",
    "        y_pred = session.run(y_pred,{x:x_batch}) \n",
    "    \n",
    "    plt.figure(1)\n",
    "    plt.scatter(x_batch,y_batch)\n",
    "    plt.plot(x_batch,y_pred)\n",
    "    plt.show();\n",
    "    \n",
    "if __name__ == '__main__':\n",
    "    run() \n",
    "    "
   ]
  },
  {
   "cell_type": "code",
   "execution_count": null,
   "metadata": {
    "collapsed": true
   },
   "outputs": [],
   "source": []
  },
  {
   "cell_type": "code",
   "execution_count": null,
   "metadata": {
    "collapsed": true
   },
   "outputs": [],
   "source": []
  }
 ],
 "metadata": {
  "kernelspec": {
   "display_name": "Python 2",
   "language": "python",
   "name": "python2"
  },
  "language_info": {
   "codemirror_mode": {
    "name": "ipython",
    "version": 3
   },
   "file_extension": ".py",
   "mimetype": "text/x-python",
   "name": "python",
   "nbconvert_exporter": "python",
   "pygments_lexer": "ipython3",
   "version": "3.5.2"
  }
 },
 "nbformat": 4,
 "nbformat_minor": 2
}
